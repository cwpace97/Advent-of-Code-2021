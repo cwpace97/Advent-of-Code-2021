{
 "cells": [
  {
   "cell_type": "markdown",
   "metadata": {},
   "source": [
    "# Advent of Code 2021\n",
    "Advent of Code 2021 is a [coding challenge](https://adventofcode.com/) which provides 25 challenges, 1 per day, over the course of December leading up to Christmas."
   ]
  },
  {
   "cell_type": "code",
   "execution_count": 11,
   "metadata": {},
   "outputs": [],
   "source": [
    "import numpy as np\n",
    "import pandas as pd"
   ]
  },
  {
   "cell_type": "markdown",
   "metadata": {},
   "source": [
    "# Day 1"
   ]
  },
  {
   "cell_type": "code",
   "execution_count": 95,
   "metadata": {},
   "outputs": [
    {
     "name": "stdout",
     "output_type": "stream",
     "text": [
      "Single Increase:  1451\n"
     ]
    }
   ],
   "source": [
    "data = np.loadtxt('day1_input.txt', dtype='int')\n",
    "\n",
    "#part 1\n",
    "inc = 0\n",
    "for i in np.arange(len(data)-1): #len(data)\n",
    "    if(data[i+1] > data[i]): inc += 1\n",
    "print(\"Single Increase: \", inc)"
   ]
  },
  {
   "cell_type": "code",
   "execution_count": 96,
   "metadata": {},
   "outputs": [
    {
     "name": "stdout",
     "output_type": "stream",
     "text": [
      "Window Increase:  1395\n"
     ]
    }
   ],
   "source": [
    "#part 2\n",
    "inc = 0\n",
    "for i in np.arange(len(data)-3):\n",
    "    first = sum([data[i], data[i+1], data[i+2]])\n",
    "    second = sum([data[i+1], data[i+2], data[i+3]])\n",
    "#     print(data[i], first, second)\n",
    "    if(second > first):inc +=1\n",
    "print(\"Window Increase: \",inc)"
   ]
  },
  {
   "cell_type": "markdown",
   "metadata": {},
   "source": [
    "# Day 2"
   ]
  },
  {
   "cell_type": "code",
   "execution_count": 98,
   "metadata": {},
   "outputs": [
    {
     "name": "stdout",
     "output_type": "stream",
     "text": [
      "Position:  1895\n",
      "Depth:  894\n",
      "P x D:  1694130\n"
     ]
    }
   ],
   "source": [
    "data = np.loadtxt('day2_input.txt', ndmin = 2, dtype=\"str\")\n",
    "\n",
    "#part 1\n",
    "def mvmt(p, d, x):\n",
    "    if x[0] == 'forward': p += int(x[1])\n",
    "    elif x[0] == 'up': d -= int(x[1])\n",
    "    elif x[0] == 'down': d += int(x[1])\n",
    "    else: print(\"hmmm\")\n",
    "    return (p, d)\n",
    "\n",
    "pos = 0\n",
    "depth = 0\n",
    "for i in np.arange(len(data)):\n",
    "    pos, depth = mvmt(pos, depth, data[i])\n",
    "    \n",
    "print(\"Position: \", pos)\n",
    "print(\"Depth: \", depth)\n",
    "print(\"P x D: \", pos*depth)"
   ]
  },
  {
   "cell_type": "code",
   "execution_count": 104,
   "metadata": {},
   "outputs": [
    {
     "name": "stdout",
     "output_type": "stream",
     "text": [
      "Position:  1895\n",
      "Depth:  896491\n",
      "Aim:  894\n",
      "P x D:  1698850445\n"
     ]
    }
   ],
   "source": [
    "#part 2\n",
    "def adj_mvmt(p, d, a, x):\n",
    "    if x[0] == 'forward':\n",
    "        p += int(x[1])\n",
    "        d += a * int(x[1])\n",
    "    elif x[0] == 'up':\n",
    "        a -= int(x[1])\n",
    "    elif x[0] == 'down':\n",
    "        a += int(x[1])\n",
    "    else: print(\"hmmm\")\n",
    "    return (p, d, a)\n",
    "\n",
    "pos = 0\n",
    "depth = 0\n",
    "aim = 0\n",
    "for i in np.arange(len(data)):\n",
    "#     print(data[i])\n",
    "    pos, depth, aim= adj_mvmt(pos, depth, aim, data[i])\n",
    "    \n",
    "print(\"Position: \", pos)\n",
    "print(\"Depth: \", depth)\n",
    "print(\"Aim: \" , aim)\n",
    "print(\"P x D: \", pos*depth)"
   ]
  }
 ],
 "metadata": {
  "kernelspec": {
   "display_name": "Python 3",
   "language": "python",
   "name": "python3"
  },
  "language_info": {
   "codemirror_mode": {
    "name": "ipython",
    "version": 3
   },
   "file_extension": ".py",
   "mimetype": "text/x-python",
   "name": "python",
   "nbconvert_exporter": "python",
   "pygments_lexer": "ipython3",
   "version": "3.8.3"
  }
 },
 "nbformat": 4,
 "nbformat_minor": 4
}
