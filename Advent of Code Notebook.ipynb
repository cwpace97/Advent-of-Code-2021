{
 "cells": [
  {
   "cell_type": "markdown",
   "metadata": {},
   "source": [
    "# Advent of Code 2021\n",
    "Advent of Code 2021 is a [coding challenge](https://adventofcode.com/) which provides 25 challenges, 1 per day, over the course of December leading up to Christmas."
   ]
  },
  {
   "cell_type": "code",
   "execution_count": 67,
   "metadata": {},
   "outputs": [],
   "source": [
    "import numpy as np\n",
    "from scipy.stats import mode\n",
    "import re\n",
    "import statistics as stat\n",
    "from collections import Counter"
   ]
  },
  {
   "cell_type": "markdown",
   "metadata": {},
   "source": [
    "# Day 1"
   ]
  },
  {
   "cell_type": "code",
   "execution_count": 2,
   "metadata": {},
   "outputs": [
    {
     "name": "stdout",
     "output_type": "stream",
     "text": [
      "Single Increase:  1451\n"
     ]
    }
   ],
   "source": [
    "data = np.loadtxt('inputs/day1.txt', dtype='int')\n",
    "\n",
    "#part 1\n",
    "inc = 0\n",
    "for i in np.arange(len(data)-1): #len(data)\n",
    "    if(data[i+1] > data[i]): inc += 1\n",
    "print(\"Single Increase: \", inc)"
   ]
  },
  {
   "cell_type": "code",
   "execution_count": 3,
   "metadata": {},
   "outputs": [
    {
     "name": "stdout",
     "output_type": "stream",
     "text": [
      "Window Increase:  1395\n"
     ]
    }
   ],
   "source": [
    "#part 2\n",
    "inc = 0\n",
    "for i in np.arange(len(data)-3):\n",
    "    first = sum([data[i], data[i+1], data[i+2]])\n",
    "    second = sum([data[i+1], data[i+2], data[i+3]])\n",
    "#     print(data[i], first, second)\n",
    "    if(second > first):inc +=1\n",
    "print(\"Window Increase: \",inc)"
   ]
  },
  {
   "cell_type": "markdown",
   "metadata": {},
   "source": [
    "# Day 2"
   ]
  },
  {
   "cell_type": "code",
   "execution_count": 4,
   "metadata": {},
   "outputs": [
    {
     "name": "stdout",
     "output_type": "stream",
     "text": [
      "Position:  1895\n",
      "Depth:     894\n",
      "P x D:     1694130\n"
     ]
    }
   ],
   "source": [
    "data = np.loadtxt('inputs/day2.txt', ndmin = 2, dtype=\"str\")\n",
    "\n",
    "#part 1\n",
    "def movement(pos, dpth, cmd, amt):\n",
    "    if cmd == 'forward': pos += amt\n",
    "    elif cmd == 'up': dpth -= amt\n",
    "    elif cmd == 'down': dpth += amt\n",
    "    else: print(\"Invalid Entry\")\n",
    "    return (pos, dpth)\n",
    "\n",
    "position = depth = 0\n",
    "for command, amount in data:\n",
    "    position, depth = movement(position, depth, command, int(amount))\n",
    "    \n",
    "print(\"Position: \", position)\n",
    "print(\"Depth:    \", depth)\n",
    "print(\"P x D:    \", position*depth)"
   ]
  },
  {
   "cell_type": "code",
   "execution_count": 5,
   "metadata": {},
   "outputs": [
    {
     "name": "stdout",
     "output_type": "stream",
     "text": [
      "Position:  1895\n",
      "Depth:     896491\n",
      "Aim:       894\n",
      "P x D:     1698850445\n"
     ]
    }
   ],
   "source": [
    "#part 2\n",
    "def adj_movement(pos, dpth, aim, cmd, amt):\n",
    "    if cmd == 'forward':\n",
    "        pos += amt\n",
    "        dpth += aim * amt\n",
    "    elif cmd == 'up':\n",
    "        aim -= amt\n",
    "    elif cmd == 'down':\n",
    "        aim += amt\n",
    "    else: print(\"Invalid Entry\")\n",
    "    return (pos, dpth, aim)\n",
    "\n",
    "position = depth = aim = 0\n",
    "for command, amount in data:\n",
    "    position, depth, aim = adj_movement(position, depth, int(aim), command, int(amount))\n",
    "    \n",
    "print(\"Position: \", position)\n",
    "print(\"Depth:    \", depth)\n",
    "print(\"Aim:      \", aim)\n",
    "print(\"P x D:    \", position*depth)"
   ]
  },
  {
   "cell_type": "markdown",
   "metadata": {},
   "source": [
    "# Day 3"
   ]
  },
  {
   "cell_type": "code",
   "execution_count": 6,
   "metadata": {},
   "outputs": [
    {
     "name": "stdout",
     "output_type": "stream",
     "text": [
      "Gamma:    000011011010\n",
      "Epsilon:  111100100101 \n",
      "\n",
      "Gamma Number:    218\n",
      "Epsilon Number:  3877\n",
      "G x E:  845186\n"
     ]
    }
   ],
   "source": [
    "data = np.loadtxt('inputs/day3.txt', dtype=\"str\")\n",
    "\n",
    "num_digits = len(data[0])\n",
    "gamma = ''\n",
    "epsilon = ''\n",
    "\n",
    "#double loop to loop through each digit position, and then look through all the numbers in the input array\n",
    "for i in np.arange(num_digits):\n",
    "    values = []\n",
    "    for number in data:\n",
    "        values.append(number[i])\n",
    "    gamma += mode(values)[0][0]\n",
    "    epsilon += str(abs(1-int(mode(values)[0][0])))\n",
    "print(\"Gamma:   \", gamma)\n",
    "print(\"Epsilon: \", epsilon, '\\n')\n",
    "\n",
    "def binary_to_decimal(binary_num):\n",
    "    num, i = 0, 0\n",
    "    while binary_num > 0:\n",
    "        digit = binary_num % 10\n",
    "        num += digit * pow(2, i)\n",
    "        binary_num = binary_num // 10 #floor division, cut off remainder\n",
    "        i+= 1\n",
    "    return num\n",
    "\n",
    "gamma_num = binary_to_decimal(int(gamma))\n",
    "epsilon_num = binary_to_decimal(int(epsilon))\n",
    "\n",
    "print(\"Gamma Number:   \", gamma_num)\n",
    "print(\"Epsilon Number: \", epsilon_num)\n",
    "print(\"G x E: \", gamma_num * epsilon_num)"
   ]
  },
  {
   "cell_type": "code",
   "execution_count": 7,
   "metadata": {
    "scrolled": true
   },
   "outputs": [
    {
     "name": "stdout",
     "output_type": "stream",
     "text": [
      "Oxygen Binary:  010110110011\n",
      "Carbon Binary:  110001101010 \n",
      "\n",
      "Oxygen Num:  1459\n",
      "Carbon Num:  3178\n",
      "O x C: 4636702\n"
     ]
    }
   ],
   "source": [
    "#part 2\n",
    "num_digits = len(data[0])\n",
    "oxygen_data = data\n",
    "carbon_data = data\n",
    "\n",
    "def count_nums(df):\n",
    "    count_0, count_1 = 0, 0\n",
    "    for number in df:\n",
    "        if number[i] == '0': count_0 += 1\n",
    "        else: count_1 += 1\n",
    "    return count_0, count_1\n",
    "\n",
    "#loop through each digit position, and then reduce two separate arrays for each component at the same time\n",
    "for i in np.arange(num_digits):\n",
    "    \n",
    "    #################################\n",
    "    ### OXYGEN DATA #################\n",
    "    #################################\n",
    "    \n",
    "    if len(oxygen_data)>1:\n",
    "        #find counts of each digit\n",
    "        count_0, count_1 = count_nums(oxygen_data)\n",
    "\n",
    "        #find MOST common, with condition where if they are equal, choose '1'\n",
    "        if count_0 > count_1: max_digit = 0\n",
    "        elif count_0 < count_1: max_digit = 1\n",
    "        else: max_digit = 1\n",
    "\n",
    "        #build smaller data array\n",
    "        new_data = []\n",
    "        for number in oxygen_data:\n",
    "            if str(number[i]) == str(max_digit): new_data.append(number)\n",
    "        oxygen_data = new_data\n",
    "    \n",
    "    \n",
    "    ###############################\n",
    "    ###CARBON DATA#################\n",
    "    ###############################\n",
    "    \n",
    "    if len(carbon_data)>1:\n",
    "        #find counts of each digit\n",
    "        count_0, count_1 = count_nums(carbon_data)\n",
    "\n",
    "        #find LEAST common, with condition where if they are equal, choose '0'\n",
    "        if count_0 > count_1: min_digit = 1\n",
    "        elif count_0 < count_1: min_digit = 0\n",
    "        else: min_digit = 0\n",
    "\n",
    "        #build smaller data array\n",
    "        new_data = []\n",
    "        for number in carbon_data:\n",
    "            if str(number[i]) == str(min_digit): new_data.append(number)\n",
    "        carbon_data = new_data\n",
    "\n",
    "oxygen = oxygen_data[0]\n",
    "carbon = carbon_data[0]\n",
    "oxygen_num = binary_to_decimal(int(oxygen))\n",
    "carbon_num = binary_to_decimal(int(carbon))\n",
    "\n",
    "print(\"Oxygen Binary: \", oxygen)\n",
    "print(\"Carbon Binary: \", carbon, '\\n')\n",
    "print(\"Oxygen Num: \", oxygen_num)\n",
    "print(\"Carbon Num: \", carbon_num)\n",
    "print(\"O x C:\", oxygen_num * carbon_num)"
   ]
  },
  {
   "cell_type": "markdown",
   "metadata": {},
   "source": [
    "# Day 4"
   ]
  },
  {
   "cell_type": "code",
   "execution_count": 8,
   "metadata": {},
   "outputs": [
    {
     "name": "stdout",
     "output_type": "stream",
     "text": [
      "WINNER!\n",
      "['0', '56', '39', '4', '52', '7', '73', '57', '65', '13', '3', '72', '69', '96', '18', '9', '49']\n",
      "[[54 41 49 33 60]\n",
      " [85 56  0 77 51]\n",
      " [81 12 13 20 27]\n",
      " [36 24 69 39 80]\n",
      " [14 83 57 50 91]]\n",
      "Score:  45031\n"
     ]
    }
   ],
   "source": [
    "with open('inputs/day4.txt') as f:\n",
    "    lines = f.read().splitlines()\n",
    "input_data = lines[0].split(',')\n",
    "\n",
    "#pull board information into an array of NP\n",
    "def read_input(lines):\n",
    "    lines = lines[2:]\n",
    "    boards = []\n",
    "    for board_input in np.arange(start=0, stop=len(lines), step=6):\n",
    "        board = np.empty((5, 5), int)\n",
    "        #loop through rows in board input\n",
    "        for row_num in np.arange(5):\n",
    "            #loop through columns in each row\n",
    "            col_num = 0\n",
    "            for col in np.arange(start=0, stop=14, step=3): #TODO: fix to not be hardcoded to width of board\n",
    "                board_num = int(lines[board_input+row_num][col:col+2])\n",
    "                board[row_num][col_num] = board_num\n",
    "                col_num += 1\n",
    "        boards.append(board)\n",
    "    return boards\n",
    "\n",
    "boards = read_input(lines)\n",
    "\n",
    "#function to check for bingo\n",
    "def check_bingo(board, numbers):\n",
    "    ret = False\n",
    "\n",
    "    #check rows first\n",
    "    for row in board:\n",
    "        num_match = 0\n",
    "        for col in row:\n",
    "            if str(col) in numbers: num_match += 1\n",
    "        if num_match == 5: \n",
    "            ret = True\n",
    "    \n",
    "    #check columns\n",
    "    for i in np.arange(5):\n",
    "        num_match = 0\n",
    "        col = board[:,i]\n",
    "        for num in col:\n",
    "            if str(num) in numbers: num_match +=1\n",
    "        if num_match == 5:\n",
    "            ret = True\n",
    "    return ret\n",
    "\n",
    "#function to calculate score\n",
    "def calculate_score(board, numbers):\n",
    "    board_flat = board.flatten()\n",
    "    score = 0\n",
    "    for num in board_flat:\n",
    "        if str(num) not in numbers: score += num\n",
    "    return score * int(numbers[-1])\n",
    "\n",
    "#iterate through input list\n",
    "for position in np.arange(len(input_data)):\n",
    "    for board in boards:\n",
    "        if check_bingo(board, input_data[:position]):\n",
    "            print(\"WINNER!\")\n",
    "            print(input_data[:position])\n",
    "            print(board)\n",
    "            print(\"Score: \", calculate_score(board, input_data[:position]))\n",
    "            break\n",
    "    else:\n",
    "        continue\n",
    "    break"
   ]
  },
  {
   "cell_type": "code",
   "execution_count": 9,
   "metadata": {},
   "outputs": [
    {
     "name": "stdout",
     "output_type": "stream",
     "text": [
      "Last Winner\n",
      "['0', '56', '39', '4', '52', '7', '73', '57', '65', '13', '3', '72', '69', '96', '18', '9', '49', '83', '24', '31', '12', '64', '29', '21', '80', '71', '66', '95', '2', '62', '68', '46', '11', '33', '74', '88', '17', '15', '5', '6', '98', '30', '51', '78', '76', '75', '28', '53', '87', '48', '20', '22', '55', '86', '82', '90', '47', '19', '25', '1', '27', '60', '94', '38', '97', '58', '70', '10', '43', '40', '89', '26', '34', '32', '23', '45', '50', '91', '61', '44', '35', '85', '63', '16', '99', '92', '8']\n",
      "[[67 51 43 89 94]\n",
      " [ 4 96 50  9  8]\n",
      " [22 87 77 38 35]\n",
      " [39 37 17 59 32]\n",
      " [ 5 25 26 83 81]]\n",
      "Score:  2568\n"
     ]
    }
   ],
   "source": [
    "with open('inputs/day4.txt') as f:\n",
    "    lines = f.read().splitlines()\n",
    "\n",
    "input_data = lines[0].split(',')\n",
    "boards2 = read_input(lines)\n",
    "\n",
    "#part 2\n",
    "for position in np.arange(len(input_data)):\n",
    "    del_arr = []\n",
    "    for i in np.arange(len(boards2)):\n",
    "        if check_bingo(boards2[i], input_data[:position]):\n",
    "            del_arr.append(i)\n",
    "    if len(boards2) > 1: \n",
    "        boards2 = np.delete(boards2, del_arr, axis=0)\n",
    "    else:\n",
    "        if check_bingo(boards2[i], input_data[:position]):\n",
    "            print(\"Last Winner\")\n",
    "            print(input_data[:position])\n",
    "            print(boards2[0])\n",
    "            print(\"Score: \", calculate_score(boards2[0], input_data[:position]))\n",
    "            break"
   ]
  },
  {
   "cell_type": "markdown",
   "metadata": {},
   "source": [
    "# Day 5"
   ]
  },
  {
   "cell_type": "code",
   "execution_count": 10,
   "metadata": {},
   "outputs": [
    {
     "name": "stdout",
     "output_type": "stream",
     "text": [
      "[[0 0 0 ... 0 0 0]\n",
      " [0 0 0 ... 0 0 0]\n",
      " [0 0 0 ... 0 0 0]\n",
      " ...\n",
      " [0 0 0 ... 0 0 0]\n",
      " [0 0 0 ... 0 0 0]\n",
      " [0 0 0 ... 0 0 0]]\n",
      "Total Areas:  5124\n"
     ]
    }
   ],
   "source": [
    "with open('inputs/day5.txt') as f:\n",
    "    lines = f.read().splitlines()\n",
    "\n",
    "#this will put the input data into an array of arrays, with each line in the format of \"X1, Y1, ->, X2, Y2\"\n",
    "data = []\n",
    "for line in lines:\n",
    "    data.append(re.split(r\"\\s+|,\", line))\n",
    "\n",
    "#reduce to only horizontal and vertical\n",
    "hv_data = []\n",
    "for row in data:\n",
    "    if row[0] == row[3] or row[1] == row[4]:\n",
    "        hv_data.append(row)\n",
    "\n",
    "#create empty grid with max params set\n",
    "grid_size = int(max(max(hv_data)))+1 #this might not work appropriately\n",
    "grid = np.zeros((grid_size, grid_size), int)\n",
    "\n",
    "def plot_line(grid, x1, y1, x2, y2):\n",
    "    #sometimes the lines come in backwards, so make sure we are reading it from lowest point to highest point\n",
    "    min_x = min(int(x1), int(x2))\n",
    "    min_y = min(int(y1), int(y2))\n",
    "    \n",
    "    max_x = max(int(x1), int(x2))\n",
    "    max_y = max(int(y1), int(y2))\n",
    "    \n",
    "    for x in np.arange(start=min_x, stop=max_x+1):\n",
    "        for y in np.arange(start=min_y, stop=max_y+1):\n",
    "#             print(\"x: \", x, \" y: \", y)\n",
    "            grid[y][x] += 1 #[y][x] because the grid function reads rows (y) first, before x\n",
    "    return grid\n",
    "\n",
    "for row in hv_data:\n",
    "    grid = plot_line(\n",
    "        grid,\n",
    "        int(row[0]),\n",
    "        int(row[1]),\n",
    "        int(row[3]),\n",
    "        int(row[4]))\n",
    "\n",
    "#check for areas > 1\n",
    "total_areas = 0\n",
    "for row in grid:\n",
    "    for col in row:\n",
    "        if col > 1: total_areas += 1\n",
    "\n",
    "print(grid)\n",
    "print(\"Total Areas: \", total_areas)"
   ]
  },
  {
   "cell_type": "code",
   "execution_count": 11,
   "metadata": {},
   "outputs": [
    {
     "name": "stdout",
     "output_type": "stream",
     "text": [
      "[[0 0 0 ... 0 0 0]\n",
      " [0 0 0 ... 0 0 0]\n",
      " [0 0 0 ... 0 0 0]\n",
      " ...\n",
      " [0 0 0 ... 0 1 0]\n",
      " [0 0 0 ... 0 0 0]\n",
      " [0 0 0 ... 0 0 0]]\n",
      "Total Areas:  19771\n"
     ]
    }
   ],
   "source": [
    "#part 2\n",
    "\n",
    "#create empty grid with max params set\n",
    "grid_size = int(max(max(hv_data)))+1 #this might not work appropriately\n",
    "grid = np.zeros((grid_size, grid_size), int)\n",
    "\n",
    "def plot_all_lines(grid, x1, y1, x2, y2):\n",
    "    #sometimes the lines come in backwards, so make sure we are reading it from lowest point to highest point\n",
    "    min_x = min(int(x1), int(x2))\n",
    "    min_y = min(int(y1), int(y2))\n",
    "    \n",
    "    max_x = max(int(x1), int(x2))\n",
    "    max_y = max(int(y1), int(y2))\n",
    "    \n",
    "    #VERTICAL/HORIZONAL LINE CASE\n",
    "    if min_x == max_x or min_y == max_y:\n",
    "        for x in np.arange(start=min_x, stop=max_x+1):\n",
    "            for y in np.arange(start=min_y, stop=max_y+1):\n",
    "                grid[y][x] += 1 #[y][x] because the grid function reads rows (y) first, before x\n",
    "        return grid\n",
    "    \n",
    "    #DIAGONAL LINE CASE\n",
    "    elif max_x - min_x == max_y - min_y:\n",
    "        #build x numbers\n",
    "        if int(x2) > int(x1): x_list = np.arange(start=int(x1), stop=int(x2)+1)\n",
    "        elif int(x1) > int(x2): x_list = np.arange(start=int(x1), stop=int(x2)-1, step=-1)\n",
    "        \n",
    "        #build y numbers\n",
    "        if int(y2) > int(y1): y_list = np.arange(start=int(y1), stop=int(y2)+1)\n",
    "        elif int(y1) > int(y2): y_list = np.arange(start=int(y1), stop=int(y2)-1, step=-1)\n",
    "\n",
    "        for i in np.arange(len(x_list)):\n",
    "            grid[y_list[i]][x_list[i]] += 1\n",
    "        return grid\n",
    "    else:\n",
    "        return \"ERROR\"\n",
    "\n",
    "for row in data:\n",
    "    grid = plot_all_lines(\n",
    "        grid,\n",
    "        int(row[0]),\n",
    "        int(row[1]),\n",
    "        int(row[3]),\n",
    "        int(row[4]))\n",
    "\n",
    "#check for areas > 1\n",
    "total_areas = 0\n",
    "for row in grid:\n",
    "    for col in row:\n",
    "        if col > 1: total_areas += 1\n",
    "\n",
    "print(grid)\n",
    "print(\"Total Areas: \", total_areas)"
   ]
  },
  {
   "cell_type": "markdown",
   "metadata": {},
   "source": [
    "# Day 6"
   ]
  },
  {
   "cell_type": "code",
   "execution_count": 12,
   "metadata": {},
   "outputs": [
    {
     "name": "stdout",
     "output_type": "stream",
     "text": [
      "393019\n"
     ]
    }
   ],
   "source": [
    "with open('inputs/day6.txt') as f:\n",
    "    data = f.read().splitlines()\n",
    "data = data[0].split(',')\n",
    "# print(data)\n",
    "\n",
    "def increase_fish_count(arr):\n",
    "    new_arr = []\n",
    "    for fish in arr:\n",
    "        if int(fish) > 0: \n",
    "            new_arr.append(int(fish) - 1)\n",
    "        elif fish == 0: \n",
    "            new_arr.append(6)\n",
    "            new_arr.append(8)\n",
    "    return new_arr\n",
    "\n",
    "num_days = 80\n",
    "for i in np.arange(num_days):\n",
    "    data = increase_fish_count(data)\n",
    "#     print(data)\n",
    "    \n",
    "print(len(data))\n",
    "# np.unique(data, return_counts=True)"
   ]
  },
  {
   "cell_type": "code",
   "execution_count": 13,
   "metadata": {
    "scrolled": false
   },
   "outputs": [
    {
     "name": "stdout",
     "output_type": "stream",
     "text": [
      "Score:  1757714216975\n",
      "Distribution of Fish:  [145881978940, 182866359268, 187272552874, 201043106149, 240139748915, 224387944057, 295492420618, 119420217938, 161209888216]\n"
     ]
    }
   ],
   "source": [
    "#part 2\n",
    "with open('inputs/day6.txt') as f:\n",
    "    data = f.read().splitlines()\n",
    "data = data[0].split(',')\n",
    "\n",
    "#the ith position of the array is the lifespan of that fish,\n",
    "#while the value is the number of fish alive with that life left\n",
    "fish_count = [0,0,0,0,0,0,0,0,0]\n",
    "\n",
    "#build array\n",
    "for fish in data:\n",
    "    fish_count[int(fish)] += 1\n",
    "\n",
    "#function to iterate the counts array for fish at each position\n",
    "def next_fish_gen(arr):\n",
    "    fish_zero = arr[0]\n",
    "    new_arr = arr[1:]\n",
    "    new_arr.append(fish_zero)  #new fish being born, set to 8\n",
    "    new_arr[6] += fish_zero    #fish resetting timer to 6\n",
    "    return new_arr\n",
    "\n",
    "num_days = 256\n",
    "for i in np.arange(num_days):\n",
    "    fish_count = next_fish_gen(fish_count) \n",
    "\n",
    "def calc_score(arr):\n",
    "    score = 0\n",
    "    for i in arr: score += i\n",
    "    return score\n",
    "\n",
    "print(\"Score: \", calc_score(fish_count))\n",
    "print(\"Distribution of Fish: \", fish_count)"
   ]
  },
  {
   "cell_type": "markdown",
   "metadata": {},
   "source": [
    "# Day 7"
   ]
  },
  {
   "cell_type": "code",
   "execution_count": 14,
   "metadata": {},
   "outputs": [
    {
     "data": {
      "text/plain": [
       "337488.0"
      ]
     },
     "execution_count": 14,
     "metadata": {},
     "output_type": "execute_result"
    }
   ],
   "source": [
    "with open('inputs/day7.txt') as f:\n",
    "    data = f.read().splitlines()\n",
    "data = data[0].split(',')\n",
    "\n",
    "#convert to ints\n",
    "for i in np.arange(len(data)):\n",
    "    data[i] = int(data[i])\n",
    "\n",
    "#find midpoint\n",
    "midpoint = stat.median(data)\n",
    "\n",
    "#calculate fuel\n",
    "fuel = 0\n",
    "for value in data:\n",
    "    fuel += abs(value-midpoint)\n",
    "    \n",
    "fuel"
   ]
  },
  {
   "cell_type": "code",
   "execution_count": 15,
   "metadata": {},
   "outputs": [
    {
     "name": "stdout",
     "output_type": "stream",
     "text": [
      "Point:  480 , Fuel:  89647695.0\n"
     ]
    }
   ],
   "source": [
    "#part 2\n",
    "with open('inputs/day7.txt') as f:\n",
    "    data = f.read().splitlines()\n",
    "data = data[0].split(',')\n",
    "\n",
    "#convert to ints\n",
    "for i in np.arange(len(data)):\n",
    "    data[i] = int(data[i])\n",
    "\n",
    "data\n",
    "\n",
    "def calc_fuel_cost(data, point):\n",
    "    fuel = 0\n",
    "    for crab in data:\n",
    "        distance = abs(crab-point)\n",
    "        fuel += (pow(distance, 2) + distance)/2 #triangle formula\n",
    "    return fuel\n",
    "\n",
    "ret_point = float('inf')\n",
    "ret_fuel = float('inf')\n",
    "for point in np.arange(min(data), max(data)+1):\n",
    "    total_fuel = calc_fuel_cost(data, point)\n",
    "    if total_fuel < ret_fuel: \n",
    "        ret_fuel = total_fuel\n",
    "        ret_point = point\n",
    "\n",
    "print(\"Point: \",ret_point, \", Fuel: \",ret_fuel)"
   ]
  },
  {
   "cell_type": "markdown",
   "metadata": {},
   "source": [
    "# Day 8"
   ]
  },
  {
   "cell_type": "code",
   "execution_count": 37,
   "metadata": {},
   "outputs": [
    {
     "name": "stdout",
     "output_type": "stream",
     "text": [
      "['bafdec', 'cgefd', 'gcebd', 'ebcgd']\n",
      "255\n"
     ]
    }
   ],
   "source": [
    "with open('inputs/day8.txt') as f:\n",
    "    data = f.read().splitlines()\n",
    "\n",
    "unique = 0\n",
    "for row in data:\n",
    "    codes = row.split()[11:] #this only grabs the last 4 outputs for each row\n",
    "    for code in codes:\n",
    "        if len(code) == 2 or len(code) == 3 or len(code) == 4 or len(code) == 7:\n",
    "            unique += 1\n",
    "print(unique)"
   ]
  },
  {
   "cell_type": "code",
   "execution_count": 179,
   "metadata": {},
   "outputs": [
    {
     "name": "stdout",
     "output_type": "stream",
     "text": [
      "FINAL SUM:  982158\n"
     ]
    }
   ],
   "source": [
    "#part 2\n",
    "with open('inputs/day8.txt') as f:\n",
    "    data = f.read().splitlines()\n",
    "data\n",
    "\n",
    "##      0:      1:      2:      3:      4:\n",
    "##     aaaa    ....    aaaa    aaaa    ....\n",
    "##    b    c  .    c  .    c  .    c  b    c\n",
    "##    b    c  .    c  .    c  .    c  b    c\n",
    "##     ....    ....    dddd    dddd    dddd\n",
    "##    e    f  .    f  e    .  .    f  .    f\n",
    "##    e    f  .    f  e    .  .    f  .    f\n",
    "##     gggg    ....    gggg    gggg    ....\n",
    "##\n",
    "##      5:      6:      7:      8:      9:\n",
    "##     aaaa    aaaa    aaaa    aaaa    aaaa\n",
    "##    b    .  b    .  .    c  b    c  b    c\n",
    "##    b    .  b    .  .    c  b    c  b    c\n",
    "##     dddd    dddd    ....    dddd    dddd\n",
    "##    .    f  e    f  .    f  e    f  .    f\n",
    "##    .    f  e    f  .    f  e    f  .    f\n",
    "##     gggg    gggg    ....    gggg    gggg\n",
    "\n",
    "def find_all_chars(digits, codes):\n",
    "    mapping = {\n",
    "        'A': 'unk',\n",
    "        'B': 'unk',\n",
    "        'C': 'unk',\n",
    "        'D': 'unk',\n",
    "        'E': 'unk',\n",
    "        'F': 'unk',\n",
    "        'G': 'unk',\n",
    "    }\n",
    "\n",
    "    #distribution of all characters\n",
    "    all_char = ''\n",
    "    for num in digits:\n",
    "        all_char += num\n",
    "    key_distribution = Counter(all_char)\n",
    "    #################\n",
    "\n",
    "    #FIND 'F', 'B', 'E' positions (based on unnique distribution counts)\n",
    "    #these positions have a unique number of occurances between all 7 positions, and can \n",
    "    #therefore be identified by looking at position distributions\n",
    "    mapping['F'] = list(key_distribution.keys())[list(key_distribution.values()).index(9)] #only F shows up in 9/10 digits\n",
    "    mapping['B'] = list(key_distribution.keys())[list(key_distribution.values()).index(6)] #only B shows up in 6/10 digits\n",
    "    mapping['E'] = list(key_distribution.keys())[list(key_distribution.values()).index(4)] #only E shows up in 4/10 digits\n",
    "    #################\n",
    "\n",
    "    #FIND 'A' position\n",
    "    #this position can be found by looking at the 1 and 7 numbers (len 2 and 3 respectively) and \n",
    "    #finding the \"difference\" between these, which would be the top bar/'a' position\n",
    "    temp1 = min(digits, key=len)\n",
    "    digits.remove(temp1)\n",
    "    temp7 = min(digits, key=len)\n",
    "    digits.append(temp1)\n",
    "    for char in temp1:\n",
    "        temp7 = temp7.replace(char,'')\n",
    "    mapping['A'] = temp7\n",
    "    #################\n",
    "\n",
    "    #FIND 'C' (other 8 char)\n",
    "    #remove the 'a' position (which has 8 counts) from the distribution list and then look for \n",
    "    #the other position with 8 counts\n",
    "    temp_c = all_char.replace(temp7, '')\n",
    "    key_distribution = Counter(temp_c)\n",
    "    mapping['C'] = list(key_distribution.keys())[list(key_distribution.values()).index(8)]\n",
    "    #################\n",
    "\n",
    "    #FIND 'D' and 'G'\n",
    "    #the last two spots, both of which have 6 occurences. The trick is that with digits 0, 6 and 9,\n",
    "    #the 'D' position will show up twice, while the 'G' position will show up three times. So if we \n",
    "    #remove all other positions and look just at these distributions, we can differentiate between the two\n",
    "    \n",
    "    #only show digits with 6 characters\n",
    "    last_list = [item for item in digits if len(item) == 6] \n",
    "\n",
    "    #bring all these into one string\n",
    "    last_char = ''\n",
    "    for char in last_list:\n",
    "        last_char += char\n",
    "\n",
    "    #remove all solved characters\n",
    "    for val in mapping.values():\n",
    "        try: last_char = last_char.replace(val, '')\n",
    "        except: 'Already Removed'\n",
    "\n",
    "    #pull distribution, assign to mapping\n",
    "    last_distribution = Counter(last_char)\n",
    "    mapping['D'] = list(last_distribution.keys())[list(last_distribution.values()).index(2)]\n",
    "    mapping['G'] = list(last_distribution.keys())[list(last_distribution.values()).index(3)]\n",
    "    #################\n",
    "    \n",
    "    return mapping\n",
    "\n",
    "#function for getting the first key from a value\n",
    "def get_key(val, my_dict):\n",
    "    for key, value in my_dict.items():\n",
    "        if val == value:\n",
    "            return key\n",
    "    return \"key doesn't exist\"\n",
    "\n",
    "#decode function\n",
    "decode_map = {\n",
    "     'ABCEFG' : '0',\n",
    "     'CF'     : '1', \n",
    "     'ACDEG'  : '2', \n",
    "     'ACDFG'  : '3',\n",
    "     'BCDF'   : '4',\n",
    "     'ABDFG'  : '5',\n",
    "     'ABDEFG' : '6', \n",
    "     'ACF'    : '7',\n",
    "     'ABCDEFG': '8',\n",
    "     'ABCDFG' : '9',\n",
    "}\n",
    "def decode(codes, mapping):\n",
    "    ret_number = ''\n",
    "    for num in codes: #reversed to go from 1th place to 1000th place\n",
    "        decoded_letter = []\n",
    "        for char in num:\n",
    "            decoded_letter.append(get_key(char, mapping))\n",
    "            decoded_letter.sort()\n",
    "        final_letter = ''\n",
    "        for char in decoded_letter:\n",
    "            final_letter += char\n",
    "        ret_number += decode_map.get(final_letter)\n",
    "        \n",
    "    return ret_number\n",
    "\n",
    "#ITERATE THROUGH CODES\n",
    "final_sum = 0\n",
    "for row in data:\n",
    "    digits = row.split()[:10]\n",
    "    codes = row.split()[11:]\n",
    "    \n",
    "    #first, get line specific mapping\n",
    "    mapping = find_all_chars(digits, codes)\n",
    "    \n",
    "    #then, decode the 4 code digits into a number\n",
    "    decoded_number = int(decode(codes, mapping))\n",
    "    \n",
    "    #add this number to the decoded sum\n",
    "    final_sum += decoded_number\n",
    "    \n",
    "print(\"FINAL SUM: \",final_sum)"
   ]
  }
 ],
 "metadata": {
  "kernelspec": {
   "display_name": "Python 3",
   "language": "python",
   "name": "python3"
  },
  "language_info": {
   "codemirror_mode": {
    "name": "ipython",
    "version": 3
   },
   "file_extension": ".py",
   "mimetype": "text/x-python",
   "name": "python",
   "nbconvert_exporter": "python",
   "pygments_lexer": "ipython3",
   "version": "3.8.3"
  }
 },
 "nbformat": 4,
 "nbformat_minor": 4
}
