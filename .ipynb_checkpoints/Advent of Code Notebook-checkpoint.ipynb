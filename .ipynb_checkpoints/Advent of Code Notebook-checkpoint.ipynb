{
 "cells": [
  {
   "cell_type": "markdown",
   "metadata": {},
   "source": [
    "# Advent of Code 2021\n",
    "Advent of Code 2021 is a [coding challenge](https://adventofcode.com/) which provides 25 challenges, 1 per day, over the course of December leading up to Christmas."
   ]
  },
  {
   "cell_type": "code",
   "execution_count": 1,
   "metadata": {},
   "outputs": [],
   "source": [
    "import numpy as np\n",
    "from scipy.stats import mode\n",
    "\n",
    "import re"
   ]
  },
  {
   "cell_type": "markdown",
   "metadata": {},
   "source": [
    "# Day 1"
   ]
  },
  {
   "cell_type": "code",
   "execution_count": 2,
   "metadata": {},
   "outputs": [
    {
     "name": "stdout",
     "output_type": "stream",
     "text": [
      "Single Increase:  1451\n"
     ]
    }
   ],
   "source": [
    "data = np.loadtxt('inputs/day1_input.txt', dtype='int')\n",
    "\n",
    "#part 1\n",
    "inc = 0\n",
    "for i in np.arange(len(data)-1): #len(data)\n",
    "    if(data[i+1] > data[i]): inc += 1\n",
    "print(\"Single Increase: \", inc)"
   ]
  },
  {
   "cell_type": "code",
   "execution_count": 3,
   "metadata": {},
   "outputs": [
    {
     "name": "stdout",
     "output_type": "stream",
     "text": [
      "Window Increase:  1395\n"
     ]
    }
   ],
   "source": [
    "#part 2\n",
    "inc = 0\n",
    "for i in np.arange(len(data)-3):\n",
    "    first = sum([data[i], data[i+1], data[i+2]])\n",
    "    second = sum([data[i+1], data[i+2], data[i+3]])\n",
    "#     print(data[i], first, second)\n",
    "    if(second > first):inc +=1\n",
    "print(\"Window Increase: \",inc)"
   ]
  },
  {
   "cell_type": "markdown",
   "metadata": {},
   "source": [
    "# Day 2"
   ]
  },
  {
   "cell_type": "code",
   "execution_count": 4,
   "metadata": {},
   "outputs": [
    {
     "name": "stdout",
     "output_type": "stream",
     "text": [
      "Position:  1895\n",
      "Depth:     894\n",
      "P x D:     1694130\n"
     ]
    }
   ],
   "source": [
    "data = np.loadtxt('inputs/day2_input.txt', ndmin = 2, dtype=\"str\")\n",
    "\n",
    "#part 1\n",
    "def movement(pos, dpth, cmd, amt):\n",
    "    if cmd == 'forward': pos += amt\n",
    "    elif cmd == 'up': dpth -= amt\n",
    "    elif cmd == 'down': dpth += amt\n",
    "    else: print(\"Invalid Entry\")\n",
    "    return (pos, dpth)\n",
    "\n",
    "position = depth = 0\n",
    "for command, amount in data:\n",
    "    position, depth = movement(position, depth, command, int(amount))\n",
    "    \n",
    "print(\"Position: \", position)\n",
    "print(\"Depth:    \", depth)\n",
    "print(\"P x D:    \", position*depth)"
   ]
  },
  {
   "cell_type": "code",
   "execution_count": 5,
   "metadata": {},
   "outputs": [
    {
     "name": "stdout",
     "output_type": "stream",
     "text": [
      "Position:  1895\n",
      "Depth:     896491\n",
      "Aim:       894\n",
      "P x D:     1698850445\n"
     ]
    }
   ],
   "source": [
    "#part 2\n",
    "def adj_movement(pos, dpth, aim, cmd, amt):\n",
    "    if cmd == 'forward':\n",
    "        pos += amt\n",
    "        dpth += aim * amt\n",
    "    elif cmd == 'up':\n",
    "        aim -= amt\n",
    "    elif cmd == 'down':\n",
    "        aim += amt\n",
    "    else: print(\"Invalid Entry\")\n",
    "    return (pos, dpth, aim)\n",
    "\n",
    "position = depth = aim = 0\n",
    "for command, amount in data:\n",
    "    position, depth, aim = adj_movement(position, depth, int(aim), command, int(amount))\n",
    "    \n",
    "print(\"Position: \", position)\n",
    "print(\"Depth:    \", depth)\n",
    "print(\"Aim:      \", aim)\n",
    "print(\"P x D:    \", position*depth)"
   ]
  },
  {
   "cell_type": "markdown",
   "metadata": {},
   "source": [
    "# Day 3"
   ]
  },
  {
   "cell_type": "code",
   "execution_count": 6,
   "metadata": {},
   "outputs": [
    {
     "name": "stdout",
     "output_type": "stream",
     "text": [
      "Gamma:    000011011010\n",
      "Epsilon:  111100100101 \n",
      "\n",
      "Gamma Number:    218\n",
      "Epsilon Number:  3877\n",
      "G x E:  845186\n"
     ]
    }
   ],
   "source": [
    "data = np.loadtxt('inputs/day3_input.txt', dtype=\"str\")\n",
    "\n",
    "num_digits = len(data[0])\n",
    "gamma = ''\n",
    "epsilon = ''\n",
    "\n",
    "#double loop to loop through each digit position, and then look through all the numbers in the input array\n",
    "for i in np.arange(num_digits):\n",
    "    values = []\n",
    "    for number in data:\n",
    "        values.append(number[i])\n",
    "    gamma += mode(values)[0][0]\n",
    "    epsilon += str(abs(1-int(mode(values)[0][0])))\n",
    "print(\"Gamma:   \", gamma)\n",
    "print(\"Epsilon: \", epsilon, '\\n')\n",
    "\n",
    "def binary_to_decimal(binary_num):\n",
    "    num, i = 0, 0\n",
    "    while binary_num > 0:\n",
    "        digit = binary_num % 10\n",
    "        num += digit * pow(2, i)\n",
    "        binary_num = binary_num // 10 #floor division, cut off remainder\n",
    "        i+= 1\n",
    "    return num\n",
    "\n",
    "gamma_num = binary_to_decimal(int(gamma))\n",
    "epsilon_num = binary_to_decimal(int(epsilon))\n",
    "\n",
    "print(\"Gamma Number:   \", gamma_num)\n",
    "print(\"Epsilon Number: \", epsilon_num)\n",
    "print(\"G x E: \", gamma_num * epsilon_num)"
   ]
  },
  {
   "cell_type": "code",
   "execution_count": 7,
   "metadata": {
    "scrolled": true
   },
   "outputs": [
    {
     "name": "stdout",
     "output_type": "stream",
     "text": [
      "Oxygen Binary:  010110110011\n",
      "Carbon Binary:  110001101010 \n",
      "\n",
      "Oxygen Num:  1459\n",
      "Carbon Num:  3178\n",
      "O x C: 4636702\n"
     ]
    }
   ],
   "source": [
    "#part 2\n",
    "num_digits = len(data[0])\n",
    "oxygen_data = data\n",
    "carbon_data = data\n",
    "\n",
    "def count_nums(df):\n",
    "    count_0, count_1 = 0, 0\n",
    "    for number in df:\n",
    "        if number[i] == '0': count_0 += 1\n",
    "        else: count_1 += 1\n",
    "    return count_0, count_1\n",
    "\n",
    "#loop through each digit position, and then reduce two separate arrays for each component at the same time\n",
    "for i in np.arange(num_digits):\n",
    "    \n",
    "    #################################\n",
    "    ### OXYGEN DATA #################\n",
    "    #################################\n",
    "    \n",
    "    if len(oxygen_data)>1:\n",
    "        #find counts of each digit\n",
    "        count_0, count_1 = count_nums(oxygen_data)\n",
    "\n",
    "        #find MOST common, with condition where if they are equal, choose '1'\n",
    "        if count_0 > count_1: max_digit = 0\n",
    "        elif count_0 < count_1: max_digit = 1\n",
    "        else: max_digit = 1\n",
    "\n",
    "        #build smaller data array\n",
    "        new_data = []\n",
    "        for number in oxygen_data:\n",
    "            if str(number[i]) == str(max_digit): new_data.append(number)\n",
    "        oxygen_data = new_data\n",
    "    \n",
    "    \n",
    "    ###############################\n",
    "    ###CARBON DATA#################\n",
    "    ###############################\n",
    "    \n",
    "    if len(carbon_data)>1:\n",
    "        #find counts of each digit\n",
    "        count_0, count_1 = count_nums(carbon_data)\n",
    "\n",
    "        #find LEAST common, with condition where if they are equal, choose '0'\n",
    "        if count_0 > count_1: min_digit = 1\n",
    "        elif count_0 < count_1: min_digit = 0\n",
    "        else: min_digit = 0\n",
    "\n",
    "        #build smaller data array\n",
    "        new_data = []\n",
    "        for number in carbon_data:\n",
    "            if str(number[i]) == str(min_digit): new_data.append(number)\n",
    "        carbon_data = new_data\n",
    "\n",
    "oxygen = oxygen_data[0]\n",
    "carbon = carbon_data[0]\n",
    "oxygen_num = binary_to_decimal(int(oxygen))\n",
    "carbon_num = binary_to_decimal(int(carbon))\n",
    "\n",
    "print(\"Oxygen Binary: \", oxygen)\n",
    "print(\"Carbon Binary: \", carbon, '\\n')\n",
    "print(\"Oxygen Num: \", oxygen_num)\n",
    "print(\"Carbon Num: \", carbon_num)\n",
    "print(\"O x C:\", oxygen_num * carbon_num)"
   ]
  },
  {
   "cell_type": "markdown",
   "metadata": {},
   "source": [
    "# Day 4"
   ]
  },
  {
   "cell_type": "code",
   "execution_count": 8,
   "metadata": {},
   "outputs": [
    {
     "name": "stdout",
     "output_type": "stream",
     "text": [
      "WINNER!\n",
      "['0', '56', '39', '4', '52', '7', '73', '57', '65', '13', '3', '72', '69', '96', '18', '9', '49']\n",
      "[[54 41 49 33 60]\n",
      " [85 56  0 77 51]\n",
      " [81 12 13 20 27]\n",
      " [36 24 69 39 80]\n",
      " [14 83 57 50 91]]\n",
      "Score:  45031\n"
     ]
    }
   ],
   "source": [
    "with open('inputs/day4_input.txt') as f:\n",
    "    lines = f.read().splitlines()\n",
    "input_data = lines[0].split(',')\n",
    "\n",
    "#pull board information into an array of NP\n",
    "def read_input(lines):\n",
    "    lines = lines[2:]\n",
    "    boards = []\n",
    "    for board_input in np.arange(start=0, stop=len(lines), step=6):\n",
    "        board = np.empty((5, 5), int)\n",
    "        #loop through rows in board input\n",
    "        for row_num in np.arange(5):\n",
    "            #loop through columns in each row\n",
    "            col_num = 0\n",
    "            for col in np.arange(start=0, stop=14, step=3): #TODO: fix to not be hardcoded to width of board\n",
    "                board_num = int(lines[board_input+row_num][col:col+2])\n",
    "                board[row_num][col_num] = board_num\n",
    "                col_num += 1\n",
    "        boards.append(board)\n",
    "    return boards\n",
    "\n",
    "boards = read_input(lines)\n",
    "\n",
    "#function to check for bingo\n",
    "def check_bingo(board, numbers):\n",
    "    ret = False\n",
    "\n",
    "    #check rows first\n",
    "    for row in board:\n",
    "        num_match = 0\n",
    "        for col in row:\n",
    "            if str(col) in numbers: num_match += 1\n",
    "        if num_match == 5: \n",
    "            ret = True\n",
    "    \n",
    "    #check columns\n",
    "    for i in np.arange(5):\n",
    "        num_match = 0\n",
    "        col = board[:,i]\n",
    "        for num in col:\n",
    "            if str(num) in numbers: num_match +=1\n",
    "        if num_match == 5:\n",
    "            ret = True\n",
    "    return ret\n",
    "\n",
    "#function to calculate score\n",
    "def calculate_score(board, numbers):\n",
    "    board_flat = board.flatten()\n",
    "    score = 0\n",
    "    for num in board_flat:\n",
    "        if str(num) not in numbers: score += num\n",
    "    return score * int(numbers[-1])\n",
    "\n",
    "#iterate through input list\n",
    "for position in np.arange(len(input_data)):\n",
    "    for board in boards:\n",
    "        if check_bingo(board, input_data[:position]):\n",
    "            print(\"WINNER!\")\n",
    "            print(input_data[:position])\n",
    "            print(board)\n",
    "            print(\"Score: \", calculate_score(board, input_data[:position]))\n",
    "            break\n",
    "    else:\n",
    "        continue\n",
    "    break"
   ]
  },
  {
   "cell_type": "code",
   "execution_count": 9,
   "metadata": {},
   "outputs": [
    {
     "name": "stdout",
     "output_type": "stream",
     "text": [
      "Last Winner\n",
      "['0', '56', '39', '4', '52', '7', '73', '57', '65', '13', '3', '72', '69', '96', '18', '9', '49', '83', '24', '31', '12', '64', '29', '21', '80', '71', '66', '95', '2', '62', '68', '46', '11', '33', '74', '88', '17', '15', '5', '6', '98', '30', '51', '78', '76', '75', '28', '53', '87', '48', '20', '22', '55', '86', '82', '90', '47', '19', '25', '1', '27', '60', '94', '38', '97', '58', '70', '10', '43', '40', '89', '26', '34', '32', '23', '45', '50', '91', '61', '44', '35', '85', '63', '16', '99', '92', '8']\n",
      "[[67 51 43 89 94]\n",
      " [ 4 96 50  9  8]\n",
      " [22 87 77 38 35]\n",
      " [39 37 17 59 32]\n",
      " [ 5 25 26 83 81]]\n",
      "Score:  2568\n"
     ]
    }
   ],
   "source": [
    "with open('inputs/day4_input.txt') as f:\n",
    "    lines = f.read().splitlines()\n",
    "\n",
    "input_data = lines[0].split(',')\n",
    "boards2 = read_input(lines)\n",
    "\n",
    "#part 2\n",
    "for position in np.arange(len(input_data)):\n",
    "    del_arr = []\n",
    "    for i in np.arange(len(boards2)):\n",
    "        if check_bingo(boards2[i], input_data[:position]):\n",
    "            del_arr.append(i)\n",
    "    if len(boards2) > 1: \n",
    "        boards2 = np.delete(boards2, del_arr, axis=0)\n",
    "    else:\n",
    "        if check_bingo(boards2[i], input_data[:position]):\n",
    "            print(\"Last Winner\")\n",
    "            print(input_data[:position])\n",
    "            print(boards2[0])\n",
    "            print(\"Score: \", calculate_score(boards2[0], input_data[:position]))\n",
    "            break"
   ]
  },
  {
   "cell_type": "markdown",
   "metadata": {},
   "source": [
    "# Day 5"
   ]
  },
  {
   "cell_type": "code",
   "execution_count": 10,
   "metadata": {},
   "outputs": [
    {
     "name": "stdout",
     "output_type": "stream",
     "text": [
      "[[0 0 0 ... 0 0 0]\n",
      " [0 0 0 ... 0 0 0]\n",
      " [0 0 0 ... 0 0 0]\n",
      " ...\n",
      " [0 0 0 ... 0 0 0]\n",
      " [0 0 0 ... 0 0 0]\n",
      " [0 0 0 ... 0 0 0]]\n",
      "Total Areas:  5124\n"
     ]
    }
   ],
   "source": [
    "with open('inputs/day5_input.txt') as f:\n",
    "    lines = f.read().splitlines()\n",
    "\n",
    "#this will put the input data into an array of arrays, with each line in the format of \"X1, Y1, ->, X2, Y2\"\n",
    "data = []\n",
    "for line in lines:\n",
    "    data.append(re.split(r\"\\s+|,\", line))\n",
    "\n",
    "#reduce to only horizontal and vertical\n",
    "hv_data = []\n",
    "for row in data:\n",
    "    if row[0] == row[3] or row[1] == row[4]:\n",
    "        hv_data.append(row)\n",
    "\n",
    "#create empty grid with max params set\n",
    "grid_size = int(max(max(hv_data)))+1 #this might not work appropriately\n",
    "grid = np.zeros((grid_size, grid_size), int)\n",
    "\n",
    "def plot_line(grid, x1, y1, x2, y2):\n",
    "    #sometimes the lines come in backwards, so make sure we are reading it from lowest point to highest point\n",
    "    min_x = min(int(x1), int(x2))\n",
    "    min_y = min(int(y1), int(y2))\n",
    "    \n",
    "    max_x = max(int(x1), int(x2))\n",
    "    max_y = max(int(y1), int(y2))\n",
    "    \n",
    "    for x in np.arange(start=min_x, stop=max_x+1):\n",
    "        for y in np.arange(start=min_y, stop=max_y+1):\n",
    "#             print(\"x: \", x, \" y: \", y)\n",
    "            grid[y][x] += 1 #[y][x] because the grid function reads rows (y) first, before x\n",
    "    return grid\n",
    "\n",
    "for row in hv_data:\n",
    "    grid = plot_line(\n",
    "        grid,\n",
    "        int(row[0]),\n",
    "        int(row[1]),\n",
    "        int(row[3]),\n",
    "        int(row[4]))\n",
    "\n",
    "#check for areas > 1\n",
    "total_areas = 0\n",
    "for row in grid:\n",
    "    for col in row:\n",
    "        if col > 1: total_areas += 1\n",
    "\n",
    "print(grid)\n",
    "print(\"Total Areas: \", total_areas)"
   ]
  },
  {
   "cell_type": "code",
   "execution_count": 11,
   "metadata": {},
   "outputs": [
    {
     "name": "stdout",
     "output_type": "stream",
     "text": [
      "[[0 0 0 ... 0 0 0]\n",
      " [0 0 0 ... 0 0 0]\n",
      " [0 0 0 ... 0 0 0]\n",
      " ...\n",
      " [0 0 0 ... 0 1 0]\n",
      " [0 0 0 ... 0 0 0]\n",
      " [0 0 0 ... 0 0 0]]\n",
      "Total Areas:  19771\n"
     ]
    }
   ],
   "source": [
    "#part 2\n",
    "\n",
    "#create empty grid with max params set\n",
    "grid_size = int(max(max(hv_data)))+1 #this might not work appropriately\n",
    "grid = np.zeros((grid_size, grid_size), int)\n",
    "\n",
    "def plot_all_lines(grid, x1, y1, x2, y2):\n",
    "    #sometimes the lines come in backwards, so make sure we are reading it from lowest point to highest point\n",
    "    min_x = min(int(x1), int(x2))\n",
    "    min_y = min(int(y1), int(y2))\n",
    "    \n",
    "    max_x = max(int(x1), int(x2))\n",
    "    max_y = max(int(y1), int(y2))\n",
    "    \n",
    "    #VERTICAL/HORIZONAL LINE CASE\n",
    "    if min_x == max_x or min_y == max_y:\n",
    "        for x in np.arange(start=min_x, stop=max_x+1):\n",
    "            for y in np.arange(start=min_y, stop=max_y+1):\n",
    "                grid[y][x] += 1 #[y][x] because the grid function reads rows (y) first, before x\n",
    "        return grid\n",
    "    \n",
    "    #DIAGONAL LINE CASE\n",
    "    elif max_x - min_x == max_y - min_y:\n",
    "        #build x numbers\n",
    "        if int(x2) > int(x1): x_list = np.arange(start=int(x1), stop=int(x2)+1)\n",
    "        elif int(x1) > int(x2): x_list = np.arange(start=int(x1), stop=int(x2)-1, step=-1)\n",
    "        \n",
    "        #build y numbers\n",
    "        if int(y2) > int(y1): y_list = np.arange(start=int(y1), stop=int(y2)+1)\n",
    "        elif int(y1) > int(y2): y_list = np.arange(start=int(y1), stop=int(y2)-1, step=-1)\n",
    "\n",
    "        for i in np.arange(len(x_list)):\n",
    "            grid[y_list[i]][x_list[i]] += 1\n",
    "        return grid\n",
    "    else:\n",
    "        return \"ERROR\"\n",
    "\n",
    "for row in data:\n",
    "    grid = plot_all_lines(\n",
    "        grid,\n",
    "        int(row[0]),\n",
    "        int(row[1]),\n",
    "        int(row[3]),\n",
    "        int(row[4]))\n",
    "\n",
    "#check for areas > 1\n",
    "total_areas = 0\n",
    "for row in grid:\n",
    "    for col in row:\n",
    "        if col > 1: total_areas += 1\n",
    "\n",
    "print(grid)\n",
    "print(\"Total Areas: \", total_areas)"
   ]
  }
 ],
 "metadata": {
  "kernelspec": {
   "display_name": "Python 3",
   "language": "python",
   "name": "python3"
  },
  "language_info": {
   "codemirror_mode": {
    "name": "ipython",
    "version": 3
   },
   "file_extension": ".py",
   "mimetype": "text/x-python",
   "name": "python",
   "nbconvert_exporter": "python",
   "pygments_lexer": "ipython3",
   "version": "3.8.3"
  }
 },
 "nbformat": 4,
 "nbformat_minor": 4
}
