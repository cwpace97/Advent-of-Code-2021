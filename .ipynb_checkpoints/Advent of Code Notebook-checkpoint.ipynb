{
 "cells": [
  {
   "cell_type": "markdown",
   "metadata": {},
   "source": [
    "# Advent of Code 2021\n",
    "Advent of Code 2021 is a [coding challenge](https://adventofcode.com/) which provides 25 challenges, 1 per day, over the course of December leading up to Christmas."
   ]
  },
  {
   "cell_type": "code",
   "execution_count": 1,
   "metadata": {},
   "outputs": [],
   "source": [
    "import numpy as np\n",
    "from scipy.stats import mode"
   ]
  },
  {
   "cell_type": "markdown",
   "metadata": {},
   "source": [
    "# Day 1"
   ]
  },
  {
   "cell_type": "code",
   "execution_count": 2,
   "metadata": {},
   "outputs": [
    {
     "name": "stdout",
     "output_type": "stream",
     "text": [
      "Single Increase:  1451\n"
     ]
    }
   ],
   "source": [
    "data = np.loadtxt('day1_input.txt', dtype='int')\n",
    "\n",
    "#part 1\n",
    "inc = 0\n",
    "for i in np.arange(len(data)-1): #len(data)\n",
    "    if(data[i+1] > data[i]): inc += 1\n",
    "print(\"Single Increase: \", inc)"
   ]
  },
  {
   "cell_type": "code",
   "execution_count": 3,
   "metadata": {},
   "outputs": [
    {
     "name": "stdout",
     "output_type": "stream",
     "text": [
      "Window Increase:  1395\n"
     ]
    }
   ],
   "source": [
    "#part 2\n",
    "inc = 0\n",
    "for i in np.arange(len(data)-3):\n",
    "    first = sum([data[i], data[i+1], data[i+2]])\n",
    "    second = sum([data[i+1], data[i+2], data[i+3]])\n",
    "#     print(data[i], first, second)\n",
    "    if(second > first):inc +=1\n",
    "print(\"Window Increase: \",inc)"
   ]
  },
  {
   "cell_type": "markdown",
   "metadata": {},
   "source": [
    "# Day 2"
   ]
  },
  {
   "cell_type": "code",
   "execution_count": 4,
   "metadata": {},
   "outputs": [
    {
     "name": "stdout",
     "output_type": "stream",
     "text": [
      "Position:  1895\n",
      "Depth:     894\n",
      "P x D:     1694130\n"
     ]
    }
   ],
   "source": [
    "data = np.loadtxt('day2_input.txt', ndmin = 2, dtype=\"str\")\n",
    "\n",
    "#part 1\n",
    "def movement(pos, dpth, cmd, amt):\n",
    "    if cmd == 'forward': pos += amt\n",
    "    elif cmd == 'up': dpth -= amt\n",
    "    elif cmd == 'down': dpth += amt\n",
    "    else: print(\"Invalid Entry\")\n",
    "    return (pos, dpth)\n",
    "\n",
    "position = depth = 0\n",
    "for command, amount in data:\n",
    "    position, depth = movement(position, depth, command, int(amount))\n",
    "    \n",
    "print(\"Position: \", position)\n",
    "print(\"Depth:    \", depth)\n",
    "print(\"P x D:    \", position*depth)"
   ]
  },
  {
   "cell_type": "code",
   "execution_count": 5,
   "metadata": {},
   "outputs": [
    {
     "name": "stdout",
     "output_type": "stream",
     "text": [
      "Position:  1895\n",
      "Depth:     896491\n",
      "Aim:       894\n",
      "P x D:     1698850445\n"
     ]
    }
   ],
   "source": [
    "#part 2\n",
    "def adj_movement(pos, dpth, aim, cmd, amt):\n",
    "    if cmd == 'forward':\n",
    "        pos += amt\n",
    "        dpth += aim * amt\n",
    "    elif cmd == 'up':\n",
    "        aim -= amt\n",
    "    elif cmd == 'down':\n",
    "        aim += amt\n",
    "    else: print(\"Invalid Entry\")\n",
    "    return (pos, dpth, aim)\n",
    "\n",
    "position = depth = aim = 0\n",
    "for command, amount in data:\n",
    "    position, depth, aim = adj_movement(position, depth, int(aim), command, int(amount))\n",
    "    \n",
    "print(\"Position: \", position)\n",
    "print(\"Depth:    \", depth)\n",
    "print(\"Aim:      \", aim)\n",
    "print(\"P x D:    \", position*depth)"
   ]
  },
  {
   "cell_type": "markdown",
   "metadata": {},
   "source": [
    "# Day 3"
   ]
  },
  {
   "cell_type": "code",
   "execution_count": 6,
   "metadata": {},
   "outputs": [
    {
     "name": "stdout",
     "output_type": "stream",
     "text": [
      "Gamma:    000011011010\n",
      "Epsilon:  111100100101 \n",
      "\n",
      "Gamma Number:    218\n",
      "Epsilon Number:  3877\n",
      "G x E:  845186\n"
     ]
    }
   ],
   "source": [
    "data = np.loadtxt('day3_input.txt', dtype=\"str\")\n",
    "\n",
    "num_digits = len(data[0])\n",
    "gamma = ''\n",
    "epsilon = ''\n",
    "\n",
    "#double loop to loop through each digit position, and then look through all the numbers in the input array\n",
    "for i in np.arange(num_digits):\n",
    "    values = []\n",
    "    for number in data:\n",
    "        values.append(number[i])\n",
    "    gamma += mode(values)[0][0]\n",
    "    epsilon += str(abs(1-int(mode(values)[0][0])))\n",
    "print(\"Gamma:   \", gamma)\n",
    "print(\"Epsilon: \", epsilon, '\\n')\n",
    "\n",
    "def binary_to_decimal(binary_num):\n",
    "    num, i = 0, 0\n",
    "    while binary_num > 0:\n",
    "        digit = binary_num % 10\n",
    "        num += digit * pow(2, i)\n",
    "        binary_num = binary_num // 10 #floor division, cut off remainder\n",
    "        i+= 1\n",
    "    return num\n",
    "\n",
    "gamma_num = binary_to_decimal(int(gamma))\n",
    "epsilon_num = binary_to_decimal(int(epsilon))\n",
    "\n",
    "print(\"Gamma Number:   \", gamma_num)\n",
    "print(\"Epsilon Number: \", epsilon_num)\n",
    "print(\"G x E: \", gamma_num * epsilon_num)"
   ]
  },
  {
   "cell_type": "code",
   "execution_count": 9,
   "metadata": {
    "scrolled": true
   },
   "outputs": [
    {
     "name": "stdout",
     "output_type": "stream",
     "text": [
      "Oxygen Binary:  010110110011\n",
      "Carbon Binary:  110001101010 \n",
      "\n",
      "Oxygen Num:  1459\n",
      "Carbon Num:  3178\n",
      "O x C: 4636702\n"
     ]
    }
   ],
   "source": [
    "#part 2\n",
    "num_digits = len(data[0])\n",
    "oxygen_data = data\n",
    "carbon_data = data\n",
    "\n",
    "def count_nums(df):\n",
    "    count_0, count_1 = 0, 0\n",
    "    for number in df:\n",
    "        if number[i] == '0': count_0 += 1\n",
    "        else: count_1 += 1\n",
    "    return count_0, count_1\n",
    "\n",
    "#loop through each digit position, and then reduce two separate arrays for each component at the same time\n",
    "for i in np.arange(num_digits):\n",
    "    \n",
    "    #################################\n",
    "    ### OXYGEN DATA #################\n",
    "    #################################\n",
    "    \n",
    "    if len(oxygen_data)>1:\n",
    "        #find counts of each digit\n",
    "        count_0, count_1 = count_nums(oxygen_data)\n",
    "\n",
    "        #find MOST common, with condition where if they are equal, choose '1'\n",
    "        if count_0 > count_1: max_digit = 0\n",
    "        elif count_0 < count_1: max_digit = 1\n",
    "        else: max_digit = 1\n",
    "\n",
    "        #build smaller data array\n",
    "        new_data = []\n",
    "        for number in oxygen_data:\n",
    "            if str(number[i]) == str(max_digit): new_data.append(number)\n",
    "        oxygen_data = new_data\n",
    "    \n",
    "    \n",
    "    ###############################\n",
    "    ###CARBON DATA#################\n",
    "    ###############################\n",
    "    \n",
    "    if len(carbon_data)>1:\n",
    "        #find counts of each digit\n",
    "        count_0, count_1 = count_nums(carbon_data)\n",
    "\n",
    "        #find LEAST common, with condition where if they are equal, choose '0'\n",
    "        if count_0 > count_1: min_digit = 1\n",
    "        elif count_0 < count_1: min_digit = 0\n",
    "        else: min_digit = 0\n",
    "\n",
    "        #build smaller data array\n",
    "        new_data = []\n",
    "        for number in carbon_data:\n",
    "            if str(number[i]) == str(min_digit): new_data.append(number)\n",
    "        carbon_data = new_data\n",
    "\n",
    "oxygen = oxygen_data[0]\n",
    "carbon = carbon_data[0]\n",
    "oxygen_num = binary_to_decimal(int(oxygen))\n",
    "carbon_num = binary_to_decimal(int(carbon))\n",
    "\n",
    "print(\"Oxygen Binary: \", oxygen)\n",
    "print(\"Carbon Binary: \", carbon, '\\n')\n",
    "print(\"Oxygen Num: \", oxygen_num)\n",
    "print(\"Carbon Num: \", carbon_num)\n",
    "print(\"O x C:\", oxygen_num * carbon_num)"
   ]
  }
 ],
 "metadata": {
  "kernelspec": {
   "display_name": "Python 3",
   "language": "python",
   "name": "python3"
  },
  "language_info": {
   "codemirror_mode": {
    "name": "ipython",
    "version": 3
   },
   "file_extension": ".py",
   "mimetype": "text/x-python",
   "name": "python",
   "nbconvert_exporter": "python",
   "pygments_lexer": "ipython3",
   "version": "3.8.3"
  }
 },
 "nbformat": 4,
 "nbformat_minor": 4
}
