{
 "cells": [
  {
   "cell_type": "markdown",
   "metadata": {},
   "source": [
    "# Advent of Code 2021\n",
    "Advent of Code 2021 is a [coding challenge](https://adventofcode.com/) which provides 25 challenges, 1 per day, over the course of December leading up to Christmas."
   ]
  },
  {
   "cell_type": "code",
   "execution_count": 1,
   "metadata": {},
   "outputs": [],
   "source": [
    "import numpy as np"
   ]
  },
  {
   "cell_type": "markdown",
   "metadata": {},
   "source": [
    "# Day 1"
   ]
  },
  {
   "cell_type": "code",
   "execution_count": 2,
   "metadata": {},
   "outputs": [
    {
     "name": "stdout",
     "output_type": "stream",
     "text": [
      "Single Increase:  1451\n"
     ]
    }
   ],
   "source": [
    "data = np.loadtxt('day1_input.txt', dtype='int')\n",
    "\n",
    "#part 1\n",
    "inc = 0\n",
    "for i in np.arange(len(data)-1): #len(data)\n",
    "    if(data[i+1] > data[i]): inc += 1\n",
    "print(\"Single Increase: \", inc)"
   ]
  },
  {
   "cell_type": "code",
   "execution_count": 3,
   "metadata": {},
   "outputs": [
    {
     "name": "stdout",
     "output_type": "stream",
     "text": [
      "Window Increase:  1395\n"
     ]
    }
   ],
   "source": [
    "#part 2\n",
    "inc = 0\n",
    "for i in np.arange(len(data)-3):\n",
    "    first = sum([data[i], data[i+1], data[i+2]])\n",
    "    second = sum([data[i+1], data[i+2], data[i+3]])\n",
    "#     print(data[i], first, second)\n",
    "    if(second > first):inc +=1\n",
    "print(\"Window Increase: \",inc)"
   ]
  },
  {
   "cell_type": "markdown",
   "metadata": {},
   "source": [
    "# Day 2"
   ]
  },
  {
   "cell_type": "code",
   "execution_count": 4,
   "metadata": {},
   "outputs": [
    {
     "name": "stdout",
     "output_type": "stream",
     "text": [
      "Position:  1895\n",
      "Depth:  894\n",
      "P x D:  1694130\n"
     ]
    }
   ],
   "source": [
    "data = np.loadtxt('day2_input.txt', ndmin = 2, dtype=\"str\")\n",
    "\n",
    "#part 1\n",
    "def movement(pos, dpth, cmd, amt):\n",
    "    if cmd == 'forward': pos += amt\n",
    "    elif cmd == 'up': dpth -= amt\n",
    "    elif cmd == 'down': dpth += amt\n",
    "    else: print(\"Invalid Entry\")\n",
    "    return (pos, dpth)\n",
    "\n",
    "position = depth = 0\n",
    "for command, amount in data:\n",
    "    position, depth = movement(position, depth, command, int(amount))\n",
    "    \n",
    "print(\"Position: \", position)\n",
    "print(\"Depth: \", depth)\n",
    "print(\"P x D: \", position*depth)"
   ]
  },
  {
   "cell_type": "code",
   "execution_count": 5,
   "metadata": {},
   "outputs": [
    {
     "name": "stdout",
     "output_type": "stream",
     "text": [
      "Position:  1895\n",
      "Depth:  896491\n",
      "Aim:  894\n",
      "P x D:  1698850445\n"
     ]
    }
   ],
   "source": [
    "#part 2\n",
    "def adj_movement(pos, dpth, aim, cmd, amt):\n",
    "    if cmd == 'forward':\n",
    "        pos += amt\n",
    "        dpth += aim * amt\n",
    "    elif cmd == 'up':\n",
    "        aim -= amt\n",
    "    elif cmd == 'down':\n",
    "        aim += amt\n",
    "    else: print(\"Invalid Entry\")\n",
    "    return (pos, dpth, aim)\n",
    "\n",
    "position = depth = aim = 0\n",
    "for command, amount in data:\n",
    "    position, depth, aim = adj_movement(position, depth, int(aim), command, int(amount))\n",
    "    \n",
    "print(\"Position: \", position)\n",
    "print(\"Depth: \", depth)\n",
    "print(\"Aim: \" , aim)\n",
    "print(\"P x D: \", position*depth)"
   ]
  }
 ],
 "metadata": {
  "kernelspec": {
   "display_name": "Python 3",
   "language": "python",
   "name": "python3"
  },
  "language_info": {
   "codemirror_mode": {
    "name": "ipython",
    "version": 3
   },
   "file_extension": ".py",
   "mimetype": "text/x-python",
   "name": "python",
   "nbconvert_exporter": "python",
   "pygments_lexer": "ipython3",
   "version": "3.8.3"
  }
 },
 "nbformat": 4,
 "nbformat_minor": 4
}
