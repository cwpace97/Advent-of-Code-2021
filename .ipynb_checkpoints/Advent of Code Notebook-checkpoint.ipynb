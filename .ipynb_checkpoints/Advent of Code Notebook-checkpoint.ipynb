{
 "cells": [
  {
   "cell_type": "code",
   "execution_count": 11,
   "metadata": {},
   "outputs": [],
   "source": [
    "import numpy as np\n",
    "import pandas as pd"
   ]
  },
  {
   "cell_type": "markdown",
   "metadata": {},
   "source": [
    "# Day 1"
   ]
  },
  {
   "cell_type": "code",
   "execution_count": 66,
   "metadata": {},
   "outputs": [
    {
     "name": "stdout",
     "output_type": "stream",
     "text": [
      "Single Increase:  1451\n",
      "Window Increase:  1395\n"
     ]
    }
   ],
   "source": [
    "data = np.array(np.loadtxt('day1_input.txt', dtype='int'))\n",
    "\n",
    "#part 1\n",
    "inc = 0\n",
    "for i in np.arange(len(data)-1): #len(data)\n",
    "    if(data[i+1] > data[i]): inc += 1\n",
    "print(\"Single Increase: \", inc)\n",
    "\n",
    "#part 2\n",
    "inc = 0\n",
    "for i in np.arange(len(data)-3):\n",
    "    first = sum([data[i], data[i+1], data[i+2]])\n",
    "    second = sum([data[i+1], data[i+2], data[i+3]])\n",
    "#     print(data[i], first, second)\n",
    "    if(second > first):inc +=1\n",
    "print(\"Window Increase: \",inc)"
   ]
  },
  {
   "cell_type": "markdown",
   "metadata": {},
   "source": [
    "# Day 2"
   ]
  }
 ],
 "metadata": {
  "kernelspec": {
   "display_name": "Python 3",
   "language": "python",
   "name": "python3"
  },
  "language_info": {
   "codemirror_mode": {
    "name": "ipython",
    "version": 3
   },
   "file_extension": ".py",
   "mimetype": "text/x-python",
   "name": "python",
   "nbconvert_exporter": "python",
   "pygments_lexer": "ipython3",
   "version": "3.8.3"
  }
 },
 "nbformat": 4,
 "nbformat_minor": 4
}
